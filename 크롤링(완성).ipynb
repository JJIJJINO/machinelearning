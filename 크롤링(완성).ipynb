{
 "cells": [
  {
   "cell_type": "code",
   "execution_count": null,
   "id": "e6e59fbe",
   "metadata": {},
   "outputs": [],
   "source": [
    "pip install UserAgent"
   ]
  },
  {
   "cell_type": "code",
   "execution_count": null,
   "id": "708d30e1",
   "metadata": {},
   "outputs": [],
   "source": [
    "pip install fake_useragent"
   ]
  },
  {
   "cell_type": "code",
   "execution_count": 5,
   "id": "88a51281",
   "metadata": {},
   "outputs": [],
   "source": [
    "import requests\n",
    "from bs4 import BeautifulSoup\n",
    "import pandas as pd\n",
    "from datetime import datetime\n",
    "from fake_useragent import UserAgent\n",
    "import csv\n",
    "import time"
   ]
  },
  {
   "cell_type": "code",
   "execution_count": 6,
   "id": "b5e7c54d",
   "metadata": {},
   "outputs": [],
   "source": [
    "RESULT_PATH = 'C:/Users/dragew/'\n",
    "now = datetime.now()"
   ]
  },
  {
   "cell_type": "code",
   "execution_count": 7,
   "id": "816fcedf",
   "metadata": {},
   "outputs": [],
   "source": [
    "def crawler(maxpage, query, s_date, e_date):\n",
    "    s_from = s_date.replace(\".\", \"\")\n",
    "    e_to = e_date.replace(\".\", \"\")\n",
    "    page = 1\n",
    "    maxpage_t =(int(maxpage)-1)*10+1    \n",
    "    f = open(\"C:/Users/dragew/contents_text2.csv\", 'w', encoding = 'euc-kr')\n",
    "\n",
    "    wr = csv.writer(f)\n",
    "    wr.writerow(['years','company','title','contents','link'])\n",
    "    \n",
    "    while page < maxpage_t:\n",
    "        \n",
    "        url = 'https://search.naver.com/search.naver?where=news&query=' + query + '&sort=0&ds=' + s_date + '&de=' + e_date + '&nso=so%3Ar%2Cp%3Afrom' + s_from + 'to' + e_to + '%2Ca%3A&start=' + str(page)\n",
    "\n",
    "        # ua = UserAgent()\n",
    "        # headers = {'User-Agent' : ua.random}\n",
    "\n",
    "        req = requests.get(url)\n",
    "        \n",
    "        cont = req.content\n",
    "        soup = BeautifulSoup(cont, 'html.parser')\n",
    "        \n",
    "        for urls in soup.select(\"a.info\"):\n",
    "            \n",
    "            try:\n",
    "                if urls[\"href\"].startswith(\"https://news.naver.com\"):\n",
    "                        news_detail = []\n",
    "                        \n",
    "                        ua = UserAgent()\n",
    "                        headers = {\"User-Agent\" : ua.random}\n",
    "                        \n",
    "                        breq = requests.get(urls[\"href\"], headers = headers)\n",
    "                        bsoup = BeautifulSoup(breq.content, 'html.parser')\n",
    "                        \n",
    "                        title = bsoup.select('h3#articleTitle')[0].text\n",
    "                        news_detail.append(title)\n",
    "\n",
    "                        pdate = bsoup.select('.t11')[0].get_text()[:11]\n",
    "                        news_detail.append(pdate)\n",
    "\n",
    "                        _text = bsoup.select('#articleBodyContents')[0].get_text().replace('\\n', \" \")\n",
    "                        btext = _text.replace(\"// flash 오류를 우회하기 위한 함수 추가 function _flash_removeCallback() {}\", \"\")\n",
    "                        \n",
    "                        news_detail.append(btext.strip())\n",
    "                        news_detail.append(urls[\"href\"])\n",
    "                        \n",
    "                        pcompany = bsoup.select('#footer address')[0].a.get_text()\n",
    "                        news_detail.append(pcompany)\n",
    "                                            \n",
    "                        wr.writerow([news_detail[1].replace(',',''), news_detail[4].replace(',',''), news_detail[0].replace(',',''),\n",
    "                                    news_detail[2].replace(',',''), news_detail[3].replace(',','')])\n",
    "            except Exception as e:\n",
    "                continue\n",
    "        page += 10\n",
    "        \n",
    "    print('Completed!')\n",
    "    \n",
    "    f.close()"
   ]
  },
  {
   "cell_type": "code",
   "execution_count": 8,
   "id": "da3b5c95",
   "metadata": {},
   "outputs": [
    {
     "name": "stdout",
     "output_type": "stream",
     "text": [
      "검색 할 페이지수: 20\n",
      "검색어: ESG\n",
      "시작 날짜(YYYY.MM.DD): 2020.01.01\n",
      "종료 날짜(YYYY.MM.DD): 2021.01.01\n",
      "Completed!\n"
     ]
    }
   ],
   "source": [
    "def main():\n",
    "    maxpage = input(\"검색 할 페이지수: \")\n",
    "    query = input(\"검색어: \")\n",
    "    s_date = input(\"시작 날짜(YYYY.MM.DD): \")\n",
    "    e_date = input(\"종료 날짜(YYYY.MM.DD): \")\n",
    "    crawler(maxpage, query, s_date, e_date)\n",
    "    \n",
    "main()"
   ]
  },
  {
   "cell_type": "code",
   "execution_count": null,
   "id": "8101446f",
   "metadata": {},
   "outputs": [],
   "source": []
  }
 ],
 "metadata": {
  "kernelspec": {
   "display_name": "Python 3",
   "language": "python",
   "name": "python3"
  },
  "language_info": {
   "codemirror_mode": {
    "name": "ipython",
    "version": 3
   },
   "file_extension": ".py",
   "mimetype": "text/x-python",
   "name": "python",
   "nbconvert_exporter": "python",
   "pygments_lexer": "ipython3",
   "version": "3.8.8"
  }
 },
 "nbformat": 4,
 "nbformat_minor": 5
}
